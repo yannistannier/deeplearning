{
 "cells": [
  {
   "cell_type": "code",
   "execution_count": 300,
   "metadata": {
    "collapsed": true
   },
   "outputs": [],
   "source": [
    "from sklearn.datasets import fetch_mldata\n",
    "from sklearn.utils import shuffle\n",
    "from tensorflow.examples.tutorials.mnist import input_data\n",
    "import matplotlib.pyplot as plt\n",
    "import tensorflow as tf\n",
    "import numpy as np\n",
    "\n",
    "import time"
   ]
  },
  {
   "cell_type": "code",
   "execution_count": null,
   "metadata": {
    "collapsed": true
   },
   "outputs": [],
   "source": []
  },
  {
   "cell_type": "code",
   "execution_count": 56,
   "metadata": {
    "collapsed": true
   },
   "outputs": [],
   "source": [
    "X_train = mnist.train.images\n",
    "y_train = mnist.train.labels.astype(\"int\")\n",
    "\n",
    "X_test = mnist.test.images\n",
    "y_test = mnist.test.labels.astype(\"int\")"
   ]
  },
  {
   "cell_type": "code",
   "execution_count": 165,
   "metadata": {
    "collapsed": true
   },
   "outputs": [],
   "source": [
    "def display_matrix(X, row=None, size=28):\n",
    "    X_data = np.array([])\n",
    "    if row is None:\n",
    "        row = np.sqrt(len(X))\n",
    "    for x in X:\n",
    "        arr = x.reshape(size,size)\n",
    "        if X_data.any() :\n",
    "            X_data = np.concatenate( (X_data, arr), axis=1  )\n",
    "        else:\n",
    "            X_data = arr\n",
    "    n = np.array_split(X_data, row, axis=1)\n",
    "    X_data = np.concatenate(n, axis=0)\n",
    "    plt.imshow(X_data, interpolation=\"nearest\", cmap=plt.get_cmap('gray'))\n",
    "    plt.axis(\"off\")\n",
    "    plt.show()"
   ]
  },
  {
   "cell_type": "code",
   "execution_count": 149,
   "metadata": {
    "collapsed": true
   },
   "outputs": [],
   "source": [
    "from IPython.display import clear_output, Image, display, HTML\n",
    "\n",
    "# Helper functions for TF Graph visualization\n",
    "def strip_consts(graph_def, max_const_size=32):\n",
    "    \"\"\"Strip large constant values from graph_def.\"\"\"\n",
    "    strip_def = tf.GraphDef()\n",
    "    for n0 in graph_def.node:\n",
    "        n = strip_def.node.add() \n",
    "        n.MergeFrom(n0)\n",
    "        if n.op == 'Const':\n",
    "            tensor = n.attr['value'].tensor\n",
    "            size = len(tensor.tensor_content)\n",
    "            if size > max_const_size:\n",
    "                tensor.tensor_content = bytes(\"\"%size, 'utf-8')\n",
    "    return strip_def\n",
    "  \n",
    "def rename_nodes(graph_def, rename_func):\n",
    "    res_def = tf.GraphDef()\n",
    "    for n0 in graph_def.node:\n",
    "        n = res_def.node.add() \n",
    "        n.MergeFrom(n0)\n",
    "        n.name = rename_func(n.name)\n",
    "        for i, s in enumerate(n.input):\n",
    "            n.input[i] = rename_func(s) if s[0]!='^' else '^'+rename_func(s[1:])\n",
    "    return res_def\n",
    "  \n",
    "def show_graph(graph_def=None, max_const_size=32):\n",
    "    \"\"\"Visualize TensorFlow graph.\"\"\"\n",
    "    \n",
    "    # If no input graph is given, get the default graph\n",
    "    if graph_def is None:\n",
    "        graph_def = tf.get_default_graph().as_graph_def()\n",
    "        \n",
    "    if hasattr(graph_def, 'as_graph_def'):\n",
    "        graph_def = graph_def.as_graph_def()\n",
    "    strip_def = strip_consts(graph_def, max_const_size=max_const_size)"
   ]
  },
  {
   "cell_type": "markdown",
   "metadata": {
    "collapsed": true
   },
   "source": [
    "### RNN 0-4"
   ]
  },
  {
   "cell_type": "code",
   "execution_count": 158,
   "metadata": {
    "collapsed": true
   },
   "outputs": [],
   "source": [
    "(X_train, y_train), (X_test, y_test) = tf.keras.datasets.mnist.load_data()\n",
    "X_train = X_train.astype(np.float32).reshape(-1, 28*28) / 255.0\n",
    "X_test = X_test.astype(np.float32).reshape(-1, 28*28) / 255.0\n",
    "y_train = y_train.astype(np.int32)\n",
    "y_test = y_test.astype(np.int32)\n",
    "X_valid, X_train = X_train[:5000], X_train[5000:]\n",
    "y_valid, y_train = y_train[:5000], y_train[5000:]"
   ]
  },
  {
   "cell_type": "code",
   "execution_count": 127,
   "metadata": {
    "collapsed": true
   },
   "outputs": [],
   "source": [
    "tf.reset_default_graph()"
   ]
  },
  {
   "cell_type": "code",
   "execution_count": 128,
   "metadata": {
    "collapsed": true
   },
   "outputs": [],
   "source": [
    "n_hidden = 100\n",
    "n_input = 28*28\n",
    "n_outputs = 5\n",
    "lr = 0.001\n",
    "n_epochs = 150"
   ]
  },
  {
   "cell_type": "code",
   "execution_count": 129,
   "metadata": {
    "collapsed": true
   },
   "outputs": [],
   "source": [
    "X = tf.placeholder(tf.float32, shape=(None, n_input), name=\"X\")\n",
    "y = tf.placeholder(tf.int32, shape=(None), name=\"y\")"
   ]
  },
  {
   "cell_type": "code",
   "execution_count": 130,
   "metadata": {
    "collapsed": true
   },
   "outputs": [],
   "source": [
    "he_init = tf.contrib.layers.variance_scaling_initializer() # Initialisation de He\n",
    "hidden1 = tf.layers.dense(X, n_hidden, activation=tf.nn.elu, name=\"hidden1\", kernel_initializer=he_init)\n",
    "hidden2 = tf.layers.dense(hidden1, n_hidden, activation=tf.nn.elu, name=\"hidden2\", kernel_initializer=he_init)\n",
    "hidden3 = tf.layers.dense(hidden2, n_hidden, activation=tf.nn.elu, name=\"hidden3\", kernel_initializer=he_init)\n",
    "hidden4 = tf.layers.dense(hidden3, n_hidden, activation=tf.nn.elu, name=\"hidden4\", kernel_initializer=he_init)\n",
    "hidden5 = tf.layers.dense(hidden4, n_hidden, activation=tf.nn.elu, name=\"hidden5\", kernel_initializer=he_init)\n",
    "\n",
    "logits = tf.layers.dense(hidden5, n_outputs, activation=tf.nn.elu, name=\"logits\", kernel_initializer=he_init)\n",
    "y_proba = tf.nn.softmax(logits, name=\"Y_proba\")"
   ]
  },
  {
   "cell_type": "code",
   "execution_count": 131,
   "metadata": {
    "collapsed": true
   },
   "outputs": [],
   "source": [
    "xentropy = tf.nn.sparse_softmax_cross_entropy_with_logits(labels=y, logits=logits)  # entropie croisée\n",
    "loss = tf.reduce_mean(xentropy, name=\"loss\")  # loss\n",
    "\n",
    "\n",
    "optimizer = tf.train.AdamOptimizer(lr, name=\"optimiserAdmin\")\n",
    "training_op = optimizer.minimize(loss, name=\"Adam1\")\n",
    "\n",
    "\n",
    "with tf.name_scope(\"eval\"):\n",
    "    correct = tf.nn.in_top_k(logits, y, 1)\n",
    "    accuracy = tf.reduce_mean(tf.cast(correct, tf.float32), name=\"accuracy\")"
   ]
  },
  {
   "cell_type": "code",
   "execution_count": 132,
   "metadata": {
    "collapsed": true
   },
   "outputs": [],
   "source": [
    "index_X_train_0_4 = [ idx for idx, val in enumerate(y_train) if val < 5 ]\n",
    "index_X_valid_0_4 = [ idx for idx, val in enumerate(y_valid) if val < 5 ]\n",
    "index_X_test_0_4 = [ idx for idx, val in enumerate(y_test) if val < 5 ]"
   ]
  },
  {
   "cell_type": "code",
   "execution_count": 133,
   "metadata": {
    "collapsed": true
   },
   "outputs": [],
   "source": [
    "X_train_04 = X_train[index_X_train_0_4]\n",
    "y_train_04 = y_train[index_X_train_0_4]\n",
    "X_valid_04 = X_valid[index_X_valid_0_4]\n",
    "y_valid_04 = y_valid[index_X_valid_0_4]\n",
    "X_test_04 = X_test[index_X_test_0_4]\n",
    "y_test_04 = y_test[index_X_test_0_4]"
   ]
  },
  {
   "cell_type": "code",
   "execution_count": 134,
   "metadata": {
    "collapsed": true
   },
   "outputs": [],
   "source": [
    "init = tf.global_variables_initializer()\n",
    "saver = tf.train.Saver()"
   ]
  },
  {
   "cell_type": "code",
   "execution_count": 135,
   "metadata": {},
   "outputs": [
    {
     "name": "stdout",
     "output_type": "stream",
     "text": [
      "0 Batch accuracy: 0.375098 Validation accuracy: 0.358092\n",
      "5 Batch accuracy: 0.872851 Validation accuracy: 0.877639\n",
      "10 Batch accuracy: 0.928704 Validation accuracy: 0.933933\n",
      "15 Batch accuracy: 0.942721 Validation accuracy: 0.944488\n",
      "20 Batch accuracy: 0.955097 Validation accuracy: 0.956607\n",
      "25 Batch accuracy: 0.960375 Validation accuracy: 0.962471\n",
      "30 Batch accuracy: 0.965654 Validation accuracy: 0.965989\n",
      "35 Batch accuracy: 0.969078 Validation accuracy: 0.969117\n",
      "40 Batch accuracy: 0.971004 Validation accuracy: 0.97068\n",
      "45 Batch accuracy: 0.972573 Validation accuracy: 0.97068\n",
      "50 Batch accuracy: 0.974784 Validation accuracy: 0.972244\n",
      "55 Batch accuracy: 0.976354 Validation accuracy: 0.97459\n",
      "60 Batch accuracy: 0.977816 Validation accuracy: 0.97498\n",
      "65 Batch accuracy: 0.979492 Validation accuracy: 0.977717\n",
      "70 Batch accuracy: 0.980562 Validation accuracy: 0.977326\n",
      "75 Batch accuracy: 0.981418 Validation accuracy: 0.977717\n",
      "80 Batch accuracy: 0.982381 Validation accuracy: 0.977717\n",
      "85 Batch accuracy: 0.98313 Validation accuracy: 0.978499\n",
      "90 Batch accuracy: 0.983986 Validation accuracy: 0.97889\n",
      "95 Batch accuracy: 0.985234 Validation accuracy: 0.97889\n",
      "100 Batch accuracy: 0.985769 Validation accuracy: 0.980844\n",
      "105 Batch accuracy: 0.986554 Validation accuracy: 0.981626\n",
      "110 Batch accuracy: 0.987125 Validation accuracy: 0.981626\n",
      "115 Batch accuracy: 0.987624 Validation accuracy: 0.981235\n",
      "120 Batch accuracy: 0.988052 Validation accuracy: 0.982017\n",
      "125 Batch accuracy: 0.988765 Validation accuracy: 0.982017\n",
      "130 Batch accuracy: 0.9893 Validation accuracy: 0.982017\n",
      "135 Batch accuracy: 0.989693 Validation accuracy: 0.982408\n",
      "140 Batch accuracy: 0.990263 Validation accuracy: 0.982408\n",
      "145 Batch accuracy: 0.990691 Validation accuracy: 0.982408\n"
     ]
    }
   ],
   "source": [
    "acc_t = []\n",
    "acc_v = []\n",
    "loss_a = []\n",
    "with tf.device(\"/gpu:0\"):\n",
    "    with tf.Session(config=tf.ConfigProto(allow_soft_placement=True)) as sess:\n",
    "        init.run()\n",
    "        for epoch in range(n_epochs):\n",
    "            sess.run(training_op, feed_dict={X: X_train_04, y: y_train_04})\n",
    "            acc_batch = accuracy.eval(feed_dict={X: X_train_04, y: y_train_04})\n",
    "            acc_valid = accuracy.eval(feed_dict={X: X_valid_04, y: y_valid_04})\n",
    "            if epoch % 5 == 0:\n",
    "                print(epoch, \"Batch accuracy:\", acc_batch, \"Validation accuracy:\", acc_valid)\n",
    "            acc_t.append(acc_batch)\n",
    "            acc_v.append(acc_valid)\n",
    "            loss_a.append(loss.eval(feed_dict={X: X_train_04, y: y_train_04}))\n",
    "        saver.save(sess, \"save/RNP04/mymodel04\")"
   ]
  },
  {
   "cell_type": "code",
   "execution_count": 114,
   "metadata": {},
   "outputs": [
    {
     "name": "stdout",
     "output_type": "stream",
     "text": [
      "INFO:tensorflow:Restoring parameters from /Users/yannis/Developpement/DeepLearning/save/RNP04/mymodel04\n",
      "0.989103\n"
     ]
    }
   ],
   "source": [
    "with tf.Session() as sess:\n",
    "    saver.restore(sess, \"save/RNP04/mymodel04\")\n",
    "    accuracy_val = accuracy.eval(feed_dict={X: X_test_04, y: y_test_04})\n",
    "    print(accuracy_val)"
   ]
  },
  {
   "cell_type": "code",
   "execution_count": null,
   "metadata": {
    "collapsed": true
   },
   "outputs": [],
   "source": []
  },
  {
   "cell_type": "code",
   "execution_count": 115,
   "metadata": {},
   "outputs": [
    {
     "name": "stdout",
     "output_type": "stream",
     "text": [
      "INFO:tensorflow:Restoring parameters from /Users/yannis/Developpement/DeepLearning/save/RNP04/mymodel04\n",
      "[4]\n"
     ]
    }
   ],
   "source": [
    "with tf.Session() as sess:\n",
    "    saver.restore(sess, \"save/RNP04/mymodel04\")\n",
    "    Z = logits.eval(feed_dict={X:[X_test_04[10]]})\n",
    "    pred = np.argmax(Z, axis=1)\n",
    "    print(pred)"
   ]
  },
  {
   "cell_type": "code",
   "execution_count": 42,
   "metadata": {},
   "outputs": [
    {
     "data": {
      "image/png": "[encoded data removed]",
      "text/plain": [
       "<matplotlib.figure.Figure at 0x10a9b89e8>"
      ]
     },
     "metadata": {},
     "output_type": "display_data"
    }
   ],
   "source": [
    "display_matrix(X_test_04[10:11])"
   ]
  },
  {
   "cell_type": "code",
   "execution_count": 116,
   "metadata": {},
   "outputs": [
    {
     "data": {
      "image/png": "[encoded data removed]",
      "text/plain": [
       "<matplotlib.figure.Figure at 0x1c25aee1d0>"
      ]
     },
     "metadata": {},
     "output_type": "display_data"
    }
   ],
   "source": [
    "ax = plt.gca()\n",
    "ax.invert_yaxis()\n",
    "plt.plot(acc_t, \"b\", label=\"training\")\n",
    "plt.plot(acc_v, 'r', label=\"validation\")\n",
    "plt.legend()\n",
    "plt.show()"
   ]
  },
  {
   "cell_type": "code",
   "execution_count": 117,
   "metadata": {},
   "outputs": [
    {
     "data": {
      "image/png": "[encoded data removed]",
      "text/plain": [
       "<matplotlib.figure.Figure at 0x1c205d4a58>"
      ]
     },
     "metadata": {},
     "output_type": "display_data"
    }
   ],
   "source": [
    "plt.plot(loss_a)\n",
    "plt.show()"
   ]
  },
  {
   "cell_type": "markdown",
   "metadata": {
    "collapsed": true
   },
   "source": [
    "## with batch normalisation"
   ]
  },
  {
   "cell_type": "code",
   "execution_count": 81,
   "metadata": {
    "collapsed": true
   },
   "outputs": [],
   "source": [
    "n_epochs = 150"
   ]
  },
  {
   "cell_type": "markdown",
   "metadata": {},
   "source": [
    "casi identique sans BN, except que la bn doit etre calculé avant la fonction d'activation. Donc calculer hidden puis BN puis activation"
   ]
  },
  {
   "cell_type": "code",
   "execution_count": 82,
   "metadata": {
    "collapsed": true
   },
   "outputs": [],
   "source": [
    "tf.reset_default_graph()\n",
    "X = tf.placeholder(tf.float32, shape=(None, n_input), name=\"X\")\n",
    "y = tf.placeholder(tf.int32, shape=(None), name=\"y\")\n",
    "training = tf.placeholder_with_default(False, shape=(), name=\"training\")\n",
    "\n",
    "he_init = tf.contrib.layers.variance_scaling_initializer() # Initialisation de He\n",
    "\n",
    "\n",
    "hidden1 = tf.layers.dense(X, n_hidden, name=\"hiddenbn1\", kernel_initializer=he_init)\n",
    "bn1 = tf.layers.batch_normalization(hidden1, training=training, momentum=0.9) # mommentum = constante de lissage (1-n)\n",
    "bn1_act = tf.nn.elu(bn1)\n",
    "\n",
    "\n",
    "hidden2 = tf.layers.dense(bn1_act, n_hidden, name=\"hiddenbn2\", kernel_initializer=he_init)\n",
    "bn2 = tf.layers.batch_normalization(hidden2, training=training, momentum=0.9)\n",
    "bn2_act = tf.nn.elu(bn2)\n",
    "\n",
    "hidden3 = tf.layers.dense(bn2_act, n_hidden, name=\"hiddenbn3\", kernel_initializer=he_init)\n",
    "bn3 = tf.layers.batch_normalization(hidden3, training=training, momentum=0.9)\n",
    "bn3_act = tf.nn.elu(bn3)\n",
    "\n",
    "hidden4 = tf.layers.dense(bn3_act, n_hidden, name=\"hiddenbn4\", kernel_initializer=he_init)\n",
    "bn4 = tf.layers.batch_normalization(hidden4, training=training, momentum=0.9)\n",
    "bn4_act = tf.nn.elu(bn4)\n",
    "\n",
    "hidden5 = tf.layers.dense(bn4_act, n_hidden, name=\"hiddenbn5\", kernel_initializer=he_init)\n",
    "bn5 = tf.layers.batch_normalization(hidden5, training=training, momentum=0.9)\n",
    "bn5_act = tf.nn.elu(bn5)\n",
    "\n",
    "logit_before_bn = tf.layers.dense(bn5_act, n_outputs, name=\"logitsbn\", kernel_initializer=he_init)\n",
    "logits = tf.layers.batch_normalization(logit_before_bn, training=training, momentum=0.9)\n",
    "\n",
    "\n",
    "xentropy = tf.nn.sparse_softmax_cross_entropy_with_logits(labels=y, logits=logits)  # entropie croisée\n",
    "loss = tf.reduce_mean(xentropy, name=\"loss\")  # loss\n",
    "\n",
    "\n",
    "optimizer = tf.train.AdamOptimizer(lr)\n",
    "training_op = optimizer.minimize(loss)\n",
    "\n",
    "\n",
    "with tf.name_scope(\"eval\"):\n",
    "    correct = tf.nn.in_top_k(logits, y, 1)\n",
    "    accuracy = tf.reduce_mean(tf.cast(correct, tf.float32))"
   ]
  },
  {
   "cell_type": "code",
   "execution_count": 83,
   "metadata": {
    "collapsed": true
   },
   "outputs": [],
   "source": [
    "acc_t = []\n",
    "acc_v = []\n",
    "loss_a = []"
   ]
  },
  {
   "cell_type": "markdown",
   "metadata": {},
   "source": [
    "phase de training est identique a un RN classique à deux exception : \n",
    "- lors de l'evaluation d'une operation qui depend d'un BN, il faut fixer la valeur du placeholder training à True\n",
    "- la fonction tf.layers.batch_normalisation(..) crée plusieurs operations qui doivent etre evalusé à chaque iteration, pour ça ajouter la ligne :\n",
    "    extra_update_ops = tf.get_collection(tf.GraphKeys.UPDATE_OPS)\n",
    "et la foutre dans le run de chaque iteration."
   ]
  },
  {
   "cell_type": "code",
   "execution_count": 84,
   "metadata": {
    "collapsed": true
   },
   "outputs": [],
   "source": [
    "extra_update_ops = tf.get_collection(tf.GraphKeys.UPDATE_OPS)"
   ]
  },
  {
   "cell_type": "code",
   "execution_count": 85,
   "metadata": {},
   "outputs": [
    {
     "name": "stdout",
     "output_type": "stream",
     "text": [
      "0 Batch accuracy: 0.360796 Validation accuracy: 0.387021\n",
      "1 Batch accuracy: 0.551323 Validation accuracy: 0.565676\n",
      "2 Batch accuracy: 0.720023 Validation accuracy: 0.713057\n",
      "3 Batch accuracy: 0.830658 Validation accuracy: 0.829554\n",
      "4 Batch accuracy: 0.877773 Validation accuracy: 0.883112\n",
      "5 Batch accuracy: 0.902418 Validation accuracy: 0.909695\n",
      "6 Batch accuracy: 0.91886 Validation accuracy: 0.923769\n",
      "7 Batch accuracy: 0.929667 Validation accuracy: 0.933542\n",
      "8 Batch accuracy: 0.936657 Validation accuracy: 0.939406\n",
      "9 Batch accuracy: 0.942328 Validation accuracy: 0.944879\n",
      "10 Batch accuracy: 0.946216 Validation accuracy: 0.947615\n",
      "11 Batch accuracy: 0.949247 Validation accuracy: 0.951525\n",
      "12 Batch accuracy: 0.95153 Validation accuracy: 0.953479\n",
      "13 Batch accuracy: 0.953492 Validation accuracy: 0.955043\n",
      "14 Batch accuracy: 0.954312 Validation accuracy: 0.955434\n",
      "15 Batch accuracy: 0.955382 Validation accuracy: 0.955434\n",
      "16 Batch accuracy: 0.956167 Validation accuracy: 0.955434\n",
      "17 Batch accuracy: 0.956844 Validation accuracy: 0.957389\n",
      "18 Batch accuracy: 0.957772 Validation accuracy: 0.95817\n",
      "19 Batch accuracy: 0.959091 Validation accuracy: 0.958561\n",
      "20 Batch accuracy: 0.960019 Validation accuracy: 0.959343\n",
      "21 Batch accuracy: 0.960803 Validation accuracy: 0.960907\n",
      "22 Batch accuracy: 0.96173 Validation accuracy: 0.961689\n",
      "23 Batch accuracy: 0.962515 Validation accuracy: 0.96208\n",
      "24 Batch accuracy: 0.963264 Validation accuracy: 0.96208\n",
      "25 Batch accuracy: 0.96412 Validation accuracy: 0.963253\n",
      "26 Batch accuracy: 0.964762 Validation accuracy: 0.965207\n",
      "27 Batch accuracy: 0.965333 Validation accuracy: 0.965598\n",
      "28 Batch accuracy: 0.965725 Validation accuracy: 0.966771\n",
      "29 Batch accuracy: 0.96651 Validation accuracy: 0.967553\n",
      "30 Batch accuracy: 0.966795 Validation accuracy: 0.969117\n",
      "31 Batch accuracy: 0.967544 Validation accuracy: 0.969117\n",
      "32 Batch accuracy: 0.968008 Validation accuracy: 0.969117\n",
      "33 Batch accuracy: 0.968543 Validation accuracy: 0.969117\n",
      "34 Batch accuracy: 0.96922 Validation accuracy: 0.970289\n",
      "35 Batch accuracy: 0.969862 Validation accuracy: 0.971071\n",
      "36 Batch accuracy: 0.970504 Validation accuracy: 0.97068\n",
      "37 Batch accuracy: 0.970897 Validation accuracy: 0.971071\n",
      "38 Batch accuracy: 0.97136 Validation accuracy: 0.971071\n",
      "39 Batch accuracy: 0.971895 Validation accuracy: 0.971071\n",
      "40 Batch accuracy: 0.972466 Validation accuracy: 0.971853\n",
      "41 Batch accuracy: 0.97293 Validation accuracy: 0.973026\n",
      "42 Batch accuracy: 0.973358 Validation accuracy: 0.973417\n",
      "43 Batch accuracy: 0.9735 Validation accuracy: 0.973417\n",
      "44 Batch accuracy: 0.973893 Validation accuracy: 0.973417\n",
      "45 Batch accuracy: 0.974107 Validation accuracy: 0.973417\n",
      "46 Batch accuracy: 0.974499 Validation accuracy: 0.973417\n",
      "47 Batch accuracy: 0.974713 Validation accuracy: 0.973808\n",
      "48 Batch accuracy: 0.975034 Validation accuracy: 0.974199\n",
      "49 Batch accuracy: 0.975319 Validation accuracy: 0.97498\n",
      "50 Batch accuracy: 0.975676 Validation accuracy: 0.97498\n",
      "51 Batch accuracy: 0.976068 Validation accuracy: 0.97498\n",
      "52 Batch accuracy: 0.976247 Validation accuracy: 0.97498\n",
      "53 Batch accuracy: 0.976461 Validation accuracy: 0.97498\n",
      "54 Batch accuracy: 0.97671 Validation accuracy: 0.975371\n",
      "55 Batch accuracy: 0.976781 Validation accuracy: 0.975371\n",
      "56 Batch accuracy: 0.977388 Validation accuracy: 0.975762\n",
      "57 Batch accuracy: 0.977673 Validation accuracy: 0.976153\n",
      "58 Batch accuracy: 0.978208 Validation accuracy: 0.976153\n",
      "59 Batch accuracy: 0.978672 Validation accuracy: 0.977326\n",
      "60 Batch accuracy: 0.9791 Validation accuracy: 0.977326\n",
      "61 Batch accuracy: 0.979456 Validation accuracy: 0.978108\n",
      "62 Batch accuracy: 0.979599 Validation accuracy: 0.978108\n",
      "63 Batch accuracy: 0.979884 Validation accuracy: 0.978499\n",
      "64 Batch accuracy: 0.980134 Validation accuracy: 0.978499\n",
      "65 Batch accuracy: 0.980384 Validation accuracy: 0.97889\n",
      "66 Batch accuracy: 0.980562 Validation accuracy: 0.97889\n",
      "67 Batch accuracy: 0.980812 Validation accuracy: 0.97889\n",
      "68 Batch accuracy: 0.98099 Validation accuracy: 0.97889\n",
      "69 Batch accuracy: 0.981097 Validation accuracy: 0.979281\n",
      "70 Batch accuracy: 0.981204 Validation accuracy: 0.979281\n",
      "71 Batch accuracy: 0.981382 Validation accuracy: 0.979672\n",
      "72 Batch accuracy: 0.981596 Validation accuracy: 0.980063\n",
      "73 Batch accuracy: 0.981775 Validation accuracy: 0.980063\n",
      "74 Batch accuracy: 0.982096 Validation accuracy: 0.980063\n",
      "75 Batch accuracy: 0.98231 Validation accuracy: 0.980063\n",
      "76 Batch accuracy: 0.982631 Validation accuracy: 0.980063\n",
      "77 Batch accuracy: 0.982845 Validation accuracy: 0.980063\n",
      "78 Batch accuracy: 0.983023 Validation accuracy: 0.980844\n",
      "79 Batch accuracy: 0.983166 Validation accuracy: 0.980844\n",
      "80 Batch accuracy: 0.983415 Validation accuracy: 0.980844\n",
      "81 Batch accuracy: 0.983629 Validation accuracy: 0.980844\n",
      "82 Batch accuracy: 0.98395 Validation accuracy: 0.980844\n",
      "83 Batch accuracy: 0.98395 Validation accuracy: 0.980844\n",
      "84 Batch accuracy: 0.983986 Validation accuracy: 0.981235\n",
      "85 Batch accuracy: 0.9842 Validation accuracy: 0.980844\n",
      "86 Batch accuracy: 0.984236 Validation accuracy: 0.980844\n",
      "87 Batch accuracy: 0.984378 Validation accuracy: 0.981235\n",
      "88 Batch accuracy: 0.984628 Validation accuracy: 0.981235\n",
      "89 Batch accuracy: 0.984878 Validation accuracy: 0.981626\n",
      "90 Batch accuracy: 0.985127 Validation accuracy: 0.982017\n",
      "91 Batch accuracy: 0.985341 Validation accuracy: 0.982017\n",
      "92 Batch accuracy: 0.985484 Validation accuracy: 0.982408\n",
      "93 Batch accuracy: 0.985591 Validation accuracy: 0.982408\n",
      "94 Batch accuracy: 0.985698 Validation accuracy: 0.982408\n",
      "95 Batch accuracy: 0.986019 Validation accuracy: 0.982408\n",
      "96 Batch accuracy: 0.986197 Validation accuracy: 0.982408\n",
      "97 Batch accuracy: 0.986233 Validation accuracy: 0.982408\n",
      "98 Batch accuracy: 0.986269 Validation accuracy: 0.982408\n",
      "99 Batch accuracy: 0.986376 Validation accuracy: 0.982408\n",
      "100 Batch accuracy: 0.986447 Validation accuracy: 0.982799\n",
      "101 Batch accuracy: 0.986661 Validation accuracy: 0.982799\n",
      "102 Batch accuracy: 0.986732 Validation accuracy: 0.982799\n",
      "103 Batch accuracy: 0.986946 Validation accuracy: 0.982799\n",
      "104 Batch accuracy: 0.987089 Validation accuracy: 0.983581\n",
      "105 Batch accuracy: 0.987232 Validation accuracy: 0.983581\n",
      "106 Batch accuracy: 0.987303 Validation accuracy: 0.983581\n",
      "107 Batch accuracy: 0.98741 Validation accuracy: 0.983581\n",
      "108 Batch accuracy: 0.987588 Validation accuracy: 0.983581\n",
      "109 Batch accuracy: 0.987767 Validation accuracy: 0.983581\n",
      "110 Batch accuracy: 0.987874 Validation accuracy: 0.983581\n",
      "111 Batch accuracy: 0.987909 Validation accuracy: 0.983581\n",
      "112 Batch accuracy: 0.987909 Validation accuracy: 0.983581\n",
      "113 Batch accuracy: 0.987981 Validation accuracy: 0.983581\n",
      "114 Batch accuracy: 0.987981 Validation accuracy: 0.983581\n",
      "115 Batch accuracy: 0.988052 Validation accuracy: 0.983972\n",
      "116 Batch accuracy: 0.988266 Validation accuracy: 0.984363\n",
      "117 Batch accuracy: 0.988302 Validation accuracy: 0.984363\n",
      "118 Batch accuracy: 0.988337 Validation accuracy: 0.984363\n",
      "119 Batch accuracy: 0.98848 Validation accuracy: 0.984363\n",
      "120 Batch accuracy: 0.988516 Validation accuracy: 0.984363\n",
      "121 Batch accuracy: 0.988551 Validation accuracy: 0.984363\n",
      "122 Batch accuracy: 0.988623 Validation accuracy: 0.984363\n",
      "123 Batch accuracy: 0.988765 Validation accuracy: 0.984363\n",
      "124 Batch accuracy: 0.988837 Validation accuracy: 0.984363\n",
      "125 Batch accuracy: 0.988979 Validation accuracy: 0.984363\n",
      "126 Batch accuracy: 0.989051 Validation accuracy: 0.984363\n",
      "127 Batch accuracy: 0.989122 Validation accuracy: 0.983972\n",
      "128 Batch accuracy: 0.9893 Validation accuracy: 0.983972\n",
      "129 Batch accuracy: 0.989443 Validation accuracy: 0.984363\n",
      "130 Batch accuracy: 0.989514 Validation accuracy: 0.984754\n",
      "131 Batch accuracy: 0.989586 Validation accuracy: 0.985145\n",
      "132 Batch accuracy: 0.989657 Validation accuracy: 0.985145\n",
      "133 Batch accuracy: 0.989728 Validation accuracy: 0.985145\n",
      "134 Batch accuracy: 0.989871 Validation accuracy: 0.985145\n",
      "135 Batch accuracy: 0.989942 Validation accuracy: 0.985145\n",
      "136 Batch accuracy: 0.989978 Validation accuracy: 0.985145\n",
      "137 Batch accuracy: 0.990014 Validation accuracy: 0.985145\n",
      "138 Batch accuracy: 0.990085 Validation accuracy: 0.985536\n",
      "139 Batch accuracy: 0.990156 Validation accuracy: 0.985536\n",
      "140 Batch accuracy: 0.990228 Validation accuracy: 0.985536\n",
      "141 Batch accuracy: 0.99037 Validation accuracy: 0.985927\n"
     ]
    },
    {
     "name": "stdout",
     "output_type": "stream",
     "text": [
      "142 Batch accuracy: 0.990477 Validation accuracy: 0.985927\n",
      "143 Batch accuracy: 0.990549 Validation accuracy: 0.985927\n",
      "144 Batch accuracy: 0.99062 Validation accuracy: 0.985927\n",
      "145 Batch accuracy: 0.99062 Validation accuracy: 0.985927\n",
      "146 Batch accuracy: 0.990656 Validation accuracy: 0.986317\n",
      "147 Batch accuracy: 0.990763 Validation accuracy: 0.985927\n",
      "148 Batch accuracy: 0.991084 Validation accuracy: 0.985927\n",
      "149 Batch accuracy: 0.991155 Validation accuracy: 0.985927\n"
     ]
    }
   ],
   "source": [
    "init = tf.global_variables_initializer()\n",
    "saver = tf.train.Saver()\n",
    "with tf.Session(config=tf.ConfigProto(allow_soft_placement=True)) as sess:\n",
    "    init.run()\n",
    "    for epoch in range(n_epochs):\n",
    "        sess.run([training_op, extra_update_ops], feed_dict={training:True,X: X_train_04, y: y_train_04})\n",
    "        acc_batch = accuracy.eval(feed_dict={X: X_train_04, y: y_train_04})\n",
    "        acc_valid = accuracy.eval(feed_dict={X: X_valid_04, y: y_valid_04})\n",
    "        #if epoch % 5 == 0:\n",
    "        print(epoch, \"Batch accuracy:\", acc_batch, \"Validation accuracy:\", acc_valid)\n",
    "        acc_t.append(acc_batch)\n",
    "        acc_v.append(acc_valid)\n",
    "        loss_a.append(loss.eval(feed_dict={X: X_train_04, y: y_train_04}))\n",
    "    saver.save(sess, \"save/RNP04/mymodel04-bn\")"
   ]
  },
  {
   "cell_type": "code",
   "execution_count": 103,
   "metadata": {},
   "outputs": [
    {
     "data": {
      "image/png": "[encoded data removed]",
      "text/plain": [
       "<matplotlib.figure.Figure at 0x1c2ba916a0>"
      ]
     },
     "metadata": {},
     "output_type": "display_data"
    }
   ],
   "source": [
    "ax = plt.gca()\n",
    "ax.invert_yaxis()\n",
    "plt.plot(acc_t, \"b\", label=\"training\")\n",
    "plt.plot(acc_v, 'r', label=\"validation\")\n",
    "plt.legend()\n",
    "plt.show()"
   ]
  },
  {
   "cell_type": "code",
   "execution_count": 87,
   "metadata": {},
   "outputs": [
    {
     "data": {
      "image/png": "[encoded data removed]",
      "text/plain": [
       "<matplotlib.figure.Figure at 0x1c20474940>"
      ]
     },
     "metadata": {},
     "output_type": "display_data"
    }
   ],
   "source": [
    "plt.plot(loss_a)\n",
    "plt.show()"
   ]
  },
  {
   "cell_type": "code",
   "execution_count": 212,
   "metadata": {},
   "outputs": [
    {
     "name": "stdout",
     "output_type": "stream",
     "text": [
      "INFO:tensorflow:Restoring parameters from /Users/yannis/Developpement/DeepLearning/save/RNP04/mymodel04\n",
      "0.987352\n"
     ]
    }
   ],
   "source": [
    "with tf.Session() as sess:\n",
    "    saver.restore(sess, \"save/RNP04/mymodel04\")\n",
    "    accuracy_val = accuracy.eval(feed_dict={X: X_test_04, y: y_test_04})\n",
    "    print(accuracy_val)"
   ]
  },
  {
   "cell_type": "markdown",
   "metadata": {},
   "source": [
    "\n",
    "\n",
    "\n",
    "Le modele converge plus vite que la version sans le BN. Leger surajustement (0.991155 training 0.985927 validation).\n",
    "\n",
    "Le modele gagne aussi 1% de precision"
   ]
  },
  {
   "cell_type": "markdown",
   "metadata": {},
   "source": [
    "### With dropout"
   ]
  },
  {
   "cell_type": "code",
   "execution_count": 13,
   "metadata": {
    "collapsed": true
   },
   "outputs": [],
   "source": [
    "n_epochs = 250"
   ]
  },
  {
   "cell_type": "markdown",
   "metadata": {},
   "source": [
    "pour ajouter dropout, appliquer fonction tf.layers.dropout() à la sortie de chaque couche (sauf la couche de sortie). tf.nn.drop() est active tot le temps, même aprés entrainement donc vaut mieux utiliser tf.layers.dropout()."
   ]
  },
  {
   "cell_type": "code",
   "execution_count": 14,
   "metadata": {
    "collapsed": true
   },
   "outputs": [],
   "source": [
    "tf.reset_default_graph()\n",
    "X = tf.placeholder(tf.float32, shape=(None, n_input), name=\"X\")\n",
    "y = tf.placeholder(tf.int32, shape=(None), name=\"y\")\n",
    "training = tf.placeholder_with_default(False, shape=(), name=\"training\")\n",
    "\n",
    "dropout_rate = 0.5\n",
    "he_init = tf.contrib.layers.variance_scaling_initializer() # Initialisation de He\n",
    "\n",
    "X_drop = tf.layers.dropout(X, dropout_rate, training=training)\n",
    "\n",
    "hidden1 = tf.layers.dense(X_drop, n_hidden, name=\"hiddenbn1\", kernel_initializer=he_init)\n",
    "bn1 = tf.layers.batch_normalization(hidden1, training=training, momentum=0.9) # mommentum = constante de lissage (1-n)\n",
    "bn1_act = tf.nn.elu(bn1)\n",
    "\n",
    "hidden1_drop = tf.layers.dropout(bn1_act, dropout_rate, training=training)\n",
    "\n",
    "hidden2 = tf.layers.dense(hidden1_drop, n_hidden, name=\"hiddenbn2\", kernel_initializer=he_init)\n",
    "bn2 = tf.layers.batch_normalization(hidden2, training=training, momentum=0.9)\n",
    "bn2_act = tf.nn.elu(bn2)\n",
    "\n",
    "hidden2_drop = tf.layers.dropout(bn2_act, dropout_rate, training=training)\n",
    "\n",
    "hidden3 = tf.layers.dense(hidden2_drop, n_hidden, name=\"hiddenbn3\", kernel_initializer=he_init)\n",
    "bn3 = tf.layers.batch_normalization(hidden3, training=training, momentum=0.9)\n",
    "bn3_act = tf.nn.elu(bn3)\n",
    "\n",
    "hidden3_drop = tf.layers.dropout(bn3_act, dropout_rate, training=training)\n",
    "\n",
    "hidden4 = tf.layers.dense(hidden3_drop, n_hidden, name=\"hiddenbn4\", kernel_initializer=he_init)\n",
    "bn4 = tf.layers.batch_normalization(hidden4, training=training, momentum=0.9)\n",
    "bn4_act = tf.nn.elu(bn4)\n",
    "\n",
    "hidden4_drop = tf.layers.dropout(bn4_act, dropout_rate, training=training)\n",
    "\n",
    "hidden5 = tf.layers.dense(hidden4_drop, n_hidden, name=\"hiddenbn5\", kernel_initializer=he_init)\n",
    "bn5 = tf.layers.batch_normalization(hidden5, training=training, momentum=0.9)\n",
    "bn5_act = tf.nn.elu(bn5)\n",
    "\n",
    "hidden5_drop = tf.layers.dropout(bn5_act, dropout_rate, training=training)\n",
    "\n",
    "logit_before_bn = tf.layers.dense(hidden5_drop, n_outputs, name=\"logitsbn\", kernel_initializer=he_init)\n",
    "logits = tf.layers.batch_normalization(logit_before_bn, training=training, momentum=0.9)\n",
    "\n",
    "\n",
    "xentropy = tf.nn.sparse_softmax_cross_entropy_with_logits(labels=y, logits=logits)  # entropie croisée\n",
    "loss = tf.reduce_mean(xentropy, name=\"loss\")  # loss\n",
    "\n",
    "\n",
    "optimizer = tf.train.AdamOptimizer(lr)\n",
    "training_op = optimizer.minimize(loss)\n",
    "\n",
    "\n",
    "with tf.name_scope(\"eval\"):\n",
    "    correct = tf.nn.in_top_k(logits, y, 1)\n",
    "    accuracy = tf.reduce_mean(tf.cast(correct, tf.float32))"
   ]
  },
  {
   "cell_type": "code",
   "execution_count": 19,
   "metadata": {
    "collapsed": true
   },
   "outputs": [],
   "source": [
    "acc_t_d = []\n",
    "acc_v_d = []\n",
    "loss_a_d = []"
   ]
  },
  {
   "cell_type": "code",
   "execution_count": 20,
   "metadata": {},
   "outputs": [
    {
     "name": "stdout",
     "output_type": "stream",
     "text": [
      "0 Batch accuracy: 0.514088 Validation accuracy: 0.493745\n",
      "1 Batch accuracy: 0.661923 Validation accuracy: 0.641517\n",
      "2 Batch accuracy: 0.72869 Validation accuracy: 0.71853\n",
      "3 Batch accuracy: 0.769491 Validation accuracy: 0.763878\n",
      "4 Batch accuracy: 0.79863 Validation accuracy: 0.792416\n",
      "5 Batch accuracy: 0.822776 Validation accuracy: 0.812744\n",
      "6 Batch accuracy: 0.839967 Validation accuracy: 0.829554\n",
      "7 Batch accuracy: 0.856124 Validation accuracy: 0.850665\n",
      "8 Batch accuracy: 0.87039 Validation accuracy: 0.866302\n",
      "9 Batch accuracy: 0.882053 Validation accuracy: 0.879202\n",
      "10 Batch accuracy: 0.893181 Validation accuracy: 0.889758\n",
      "11 Batch accuracy: 0.901776 Validation accuracy: 0.897967\n",
      "12 Batch accuracy: 0.908731 Validation accuracy: 0.906959\n",
      "13 Batch accuracy: 0.913189 Validation accuracy: 0.910477\n",
      "14 Batch accuracy: 0.917219 Validation accuracy: 0.915559\n",
      "15 Batch accuracy: 0.920215 Validation accuracy: 0.918296\n",
      "16 Batch accuracy: 0.92232 Validation accuracy: 0.920641\n",
      "17 Batch accuracy: 0.924353 Validation accuracy: 0.922205\n",
      "18 Batch accuracy: 0.926136 Validation accuracy: 0.92416\n",
      "19 Batch accuracy: 0.928169 Validation accuracy: 0.925723\n",
      "20 Batch accuracy: 0.929774 Validation accuracy: 0.927678\n",
      "21 Batch accuracy: 0.930594 Validation accuracy: 0.92846\n",
      "22 Batch accuracy: 0.931736 Validation accuracy: 0.930805\n",
      "23 Batch accuracy: 0.932805 Validation accuracy: 0.933151\n",
      "24 Batch accuracy: 0.933519 Validation accuracy: 0.933542\n",
      "25 Batch accuracy: 0.934339 Validation accuracy: 0.934715\n",
      "26 Batch accuracy: 0.935266 Validation accuracy: 0.934324\n",
      "27 Batch accuracy: 0.936122 Validation accuracy: 0.936278\n",
      "28 Batch accuracy: 0.936871 Validation accuracy: 0.937451\n",
      "29 Batch accuracy: 0.937799 Validation accuracy: 0.938624\n",
      "30 Batch accuracy: 0.938262 Validation accuracy: 0.938624\n",
      "31 Batch accuracy: 0.939154 Validation accuracy: 0.939015\n",
      "32 Batch accuracy: 0.939903 Validation accuracy: 0.939015\n",
      "33 Batch accuracy: 0.940224 Validation accuracy: 0.939797\n",
      "34 Batch accuracy: 0.941151 Validation accuracy: 0.94097\n",
      "35 Batch accuracy: 0.941472 Validation accuracy: 0.94097\n",
      "36 Batch accuracy: 0.942257 Validation accuracy: 0.94097\n",
      "37 Batch accuracy: 0.942578 Validation accuracy: 0.94097\n",
      "38 Batch accuracy: 0.943113 Validation accuracy: 0.942142\n",
      "39 Batch accuracy: 0.943541 Validation accuracy: 0.942142\n",
      "40 Batch accuracy: 0.943862 Validation accuracy: 0.942533\n",
      "41 Batch accuracy: 0.944219 Validation accuracy: 0.942924\n",
      "42 Batch accuracy: 0.944647 Validation accuracy: 0.942924\n",
      "43 Batch accuracy: 0.944968 Validation accuracy: 0.944097\n",
      "44 Batch accuracy: 0.945182 Validation accuracy: 0.944488\n",
      "45 Batch accuracy: 0.94561 Validation accuracy: 0.945661\n",
      "46 Batch accuracy: 0.946145 Validation accuracy: 0.946443\n",
      "47 Batch accuracy: 0.946572 Validation accuracy: 0.946443\n",
      "48 Batch accuracy: 0.946965 Validation accuracy: 0.946443\n",
      "49 Batch accuracy: 0.947321 Validation accuracy: 0.947224\n",
      "50 Batch accuracy: 0.947892 Validation accuracy: 0.947615\n",
      "51 Batch accuracy: 0.948284 Validation accuracy: 0.947224\n",
      "52 Batch accuracy: 0.948534 Validation accuracy: 0.948788\n",
      "53 Batch accuracy: 0.948962 Validation accuracy: 0.949961\n",
      "54 Batch accuracy: 0.949533 Validation accuracy: 0.949961\n",
      "55 Batch accuracy: 0.950068 Validation accuracy: 0.949961\n",
      "56 Batch accuracy: 0.950638 Validation accuracy: 0.950743\n",
      "57 Batch accuracy: 0.951209 Validation accuracy: 0.950743\n",
      "58 Batch accuracy: 0.951601 Validation accuracy: 0.950743\n",
      "59 Batch accuracy: 0.951958 Validation accuracy: 0.951134\n",
      "60 Batch accuracy: 0.952136 Validation accuracy: 0.950743\n",
      "61 Batch accuracy: 0.952493 Validation accuracy: 0.950743\n",
      "62 Batch accuracy: 0.952636 Validation accuracy: 0.950352\n",
      "63 Batch accuracy: 0.952957 Validation accuracy: 0.949961\n",
      "64 Batch accuracy: 0.953313 Validation accuracy: 0.950352\n",
      "65 Batch accuracy: 0.953563 Validation accuracy: 0.950743\n",
      "66 Batch accuracy: 0.953813 Validation accuracy: 0.951134\n",
      "67 Batch accuracy: 0.954062 Validation accuracy: 0.951134\n",
      "68 Batch accuracy: 0.954098 Validation accuracy: 0.951134\n",
      "69 Batch accuracy: 0.954383 Validation accuracy: 0.951134\n",
      "70 Batch accuracy: 0.954633 Validation accuracy: 0.951916\n",
      "71 Batch accuracy: 0.95474 Validation accuracy: 0.951916\n",
      "72 Batch accuracy: 0.95474 Validation accuracy: 0.951916\n",
      "73 Batch accuracy: 0.954704 Validation accuracy: 0.951916\n",
      "74 Batch accuracy: 0.954954 Validation accuracy: 0.952697\n",
      "75 Batch accuracy: 0.955132 Validation accuracy: 0.952697\n",
      "76 Batch accuracy: 0.955311 Validation accuracy: 0.951916\n",
      "77 Batch accuracy: 0.95556 Validation accuracy: 0.952307\n",
      "78 Batch accuracy: 0.95581 Validation accuracy: 0.952307\n",
      "79 Batch accuracy: 0.956095 Validation accuracy: 0.952307\n",
      "80 Batch accuracy: 0.956381 Validation accuracy: 0.951916\n",
      "81 Batch accuracy: 0.95663 Validation accuracy: 0.952307\n",
      "82 Batch accuracy: 0.956809 Validation accuracy: 0.952307\n",
      "83 Batch accuracy: 0.956987 Validation accuracy: 0.952307\n",
      "84 Batch accuracy: 0.957201 Validation accuracy: 0.952307\n",
      "85 Batch accuracy: 0.957415 Validation accuracy: 0.952307\n",
      "86 Batch accuracy: 0.9577 Validation accuracy: 0.952307\n",
      "87 Batch accuracy: 0.957843 Validation accuracy: 0.951916\n",
      "88 Batch accuracy: 0.958021 Validation accuracy: 0.951916\n",
      "89 Batch accuracy: 0.958128 Validation accuracy: 0.951916\n",
      "90 Batch accuracy: 0.958235 Validation accuracy: 0.951916\n",
      "91 Batch accuracy: 0.958307 Validation accuracy: 0.952307\n",
      "92 Batch accuracy: 0.958378 Validation accuracy: 0.952307\n",
      "93 Batch accuracy: 0.958663 Validation accuracy: 0.952697\n",
      "94 Batch accuracy: 0.95877 Validation accuracy: 0.952697\n",
      "95 Batch accuracy: 0.95902 Validation accuracy: 0.953088\n",
      "96 Batch accuracy: 0.959056 Validation accuracy: 0.953088\n",
      "97 Batch accuracy: 0.95927 Validation accuracy: 0.953088\n",
      "98 Batch accuracy: 0.959341 Validation accuracy: 0.953088\n",
      "99 Batch accuracy: 0.959484 Validation accuracy: 0.953479\n",
      "100 Batch accuracy: 0.959626 Validation accuracy: 0.954261\n",
      "101 Batch accuracy: 0.959769 Validation accuracy: 0.954261\n",
      "102 Batch accuracy: 0.959912 Validation accuracy: 0.954261\n",
      "103 Batch accuracy: 0.960161 Validation accuracy: 0.954261\n",
      "104 Batch accuracy: 0.960233 Validation accuracy: 0.954261\n",
      "105 Batch accuracy: 0.960233 Validation accuracy: 0.954261\n",
      "106 Batch accuracy: 0.960268 Validation accuracy: 0.954261\n",
      "107 Batch accuracy: 0.960233 Validation accuracy: 0.954261\n",
      "108 Batch accuracy: 0.960411 Validation accuracy: 0.954652\n",
      "109 Batch accuracy: 0.960625 Validation accuracy: 0.954652\n",
      "110 Batch accuracy: 0.960625 Validation accuracy: 0.954652\n",
      "111 Batch accuracy: 0.960661 Validation accuracy: 0.954652\n",
      "112 Batch accuracy: 0.960803 Validation accuracy: 0.954652\n",
      "113 Batch accuracy: 0.960768 Validation accuracy: 0.955043\n",
      "114 Batch accuracy: 0.96091 Validation accuracy: 0.954652\n",
      "115 Batch accuracy: 0.96091 Validation accuracy: 0.954652\n",
      "116 Batch accuracy: 0.961053 Validation accuracy: 0.955043\n",
      "117 Batch accuracy: 0.96116 Validation accuracy: 0.955434\n",
      "118 Batch accuracy: 0.961196 Validation accuracy: 0.955434\n",
      "119 Batch accuracy: 0.961338 Validation accuracy: 0.955434\n",
      "120 Batch accuracy: 0.961445 Validation accuracy: 0.955434\n",
      "121 Batch accuracy: 0.961588 Validation accuracy: 0.955825\n",
      "122 Batch accuracy: 0.961659 Validation accuracy: 0.956998\n",
      "123 Batch accuracy: 0.961659 Validation accuracy: 0.956998\n",
      "124 Batch accuracy: 0.96173 Validation accuracy: 0.956998\n",
      "125 Batch accuracy: 0.961838 Validation accuracy: 0.956998\n",
      "126 Batch accuracy: 0.961909 Validation accuracy: 0.956998\n",
      "127 Batch accuracy: 0.961909 Validation accuracy: 0.956998\n",
      "128 Batch accuracy: 0.961945 Validation accuracy: 0.956998\n",
      "129 Batch accuracy: 0.96198 Validation accuracy: 0.956998\n",
      "130 Batch accuracy: 0.962159 Validation accuracy: 0.956998\n",
      "131 Batch accuracy: 0.96223 Validation accuracy: 0.957389\n",
      "132 Batch accuracy: 0.962337 Validation accuracy: 0.956998\n",
      "133 Batch accuracy: 0.962408 Validation accuracy: 0.957389\n",
      "134 Batch accuracy: 0.962408 Validation accuracy: 0.957389\n",
      "135 Batch accuracy: 0.962479 Validation accuracy: 0.957389\n",
      "136 Batch accuracy: 0.962551 Validation accuracy: 0.957389\n",
      "137 Batch accuracy: 0.962622 Validation accuracy: 0.95778\n",
      "138 Batch accuracy: 0.962586 Validation accuracy: 0.95778\n",
      "139 Batch accuracy: 0.962729 Validation accuracy: 0.95817\n",
      "140 Batch accuracy: 0.962658 Validation accuracy: 0.95817\n",
      "141 Batch accuracy: 0.962801 Validation accuracy: 0.95817\n"
     ]
    },
    {
     "name": "stdout",
     "output_type": "stream",
     "text": [
      "142 Batch accuracy: 0.962872 Validation accuracy: 0.95817\n",
      "143 Batch accuracy: 0.962907 Validation accuracy: 0.95817\n",
      "144 Batch accuracy: 0.962979 Validation accuracy: 0.95817\n",
      "145 Batch accuracy: 0.962943 Validation accuracy: 0.95817\n",
      "146 Batch accuracy: 0.962979 Validation accuracy: 0.95817\n",
      "147 Batch accuracy: 0.963086 Validation accuracy: 0.95817\n",
      "148 Batch accuracy: 0.963193 Validation accuracy: 0.95817\n",
      "149 Batch accuracy: 0.963335 Validation accuracy: 0.95817\n",
      "150 Batch accuracy: 0.963371 Validation accuracy: 0.95817\n",
      "151 Batch accuracy: 0.963407 Validation accuracy: 0.95817\n",
      "152 Batch accuracy: 0.963549 Validation accuracy: 0.958561\n",
      "153 Batch accuracy: 0.963621 Validation accuracy: 0.958561\n",
      "154 Batch accuracy: 0.963656 Validation accuracy: 0.958952\n",
      "155 Batch accuracy: 0.963692 Validation accuracy: 0.958952\n",
      "156 Batch accuracy: 0.963799 Validation accuracy: 0.958952\n",
      "157 Batch accuracy: 0.963906 Validation accuracy: 0.958952\n",
      "158 Batch accuracy: 0.964049 Validation accuracy: 0.958952\n",
      "159 Batch accuracy: 0.96412 Validation accuracy: 0.958952\n",
      "160 Batch accuracy: 0.964191 Validation accuracy: 0.958952\n",
      "161 Batch accuracy: 0.964156 Validation accuracy: 0.958952\n",
      "162 Batch accuracy: 0.964227 Validation accuracy: 0.958952\n",
      "163 Batch accuracy: 0.964263 Validation accuracy: 0.958952\n",
      "164 Batch accuracy: 0.964405 Validation accuracy: 0.959343\n",
      "165 Batch accuracy: 0.964441 Validation accuracy: 0.958952\n",
      "166 Batch accuracy: 0.964477 Validation accuracy: 0.958952\n",
      "167 Batch accuracy: 0.964477 Validation accuracy: 0.958952\n",
      "168 Batch accuracy: 0.964512 Validation accuracy: 0.958952\n",
      "169 Batch accuracy: 0.964441 Validation accuracy: 0.958952\n",
      "170 Batch accuracy: 0.964477 Validation accuracy: 0.958952\n",
      "171 Batch accuracy: 0.964512 Validation accuracy: 0.958952\n",
      "172 Batch accuracy: 0.964584 Validation accuracy: 0.958952\n",
      "173 Batch accuracy: 0.964726 Validation accuracy: 0.958952\n",
      "174 Batch accuracy: 0.964833 Validation accuracy: 0.959343\n",
      "175 Batch accuracy: 0.964905 Validation accuracy: 0.959343\n",
      "176 Batch accuracy: 0.96494 Validation accuracy: 0.959343\n",
      "177 Batch accuracy: 0.964976 Validation accuracy: 0.959343\n",
      "178 Batch accuracy: 0.964976 Validation accuracy: 0.960125\n",
      "179 Batch accuracy: 0.964976 Validation accuracy: 0.960125\n",
      "180 Batch accuracy: 0.965047 Validation accuracy: 0.960125\n",
      "181 Batch accuracy: 0.965047 Validation accuracy: 0.960516\n",
      "182 Batch accuracy: 0.965047 Validation accuracy: 0.960516\n",
      "183 Batch accuracy: 0.965012 Validation accuracy: 0.960907\n",
      "184 Batch accuracy: 0.965047 Validation accuracy: 0.960907\n",
      "185 Batch accuracy: 0.965119 Validation accuracy: 0.960907\n",
      "186 Batch accuracy: 0.965226 Validation accuracy: 0.960907\n",
      "187 Batch accuracy: 0.965297 Validation accuracy: 0.960907\n",
      "188 Batch accuracy: 0.965333 Validation accuracy: 0.960907\n",
      "189 Batch accuracy: 0.965333 Validation accuracy: 0.961298\n",
      "190 Batch accuracy: 0.965333 Validation accuracy: 0.961689\n",
      "191 Batch accuracy: 0.965368 Validation accuracy: 0.961689\n",
      "192 Batch accuracy: 0.965404 Validation accuracy: 0.961689\n",
      "193 Batch accuracy: 0.965404 Validation accuracy: 0.96208\n",
      "194 Batch accuracy: 0.965404 Validation accuracy: 0.962471\n",
      "195 Batch accuracy: 0.965511 Validation accuracy: 0.962471\n",
      "196 Batch accuracy: 0.965654 Validation accuracy: 0.962471\n",
      "197 Batch accuracy: 0.965832 Validation accuracy: 0.962471\n",
      "198 Batch accuracy: 0.965975 Validation accuracy: 0.962471\n",
      "199 Batch accuracy: 0.96601 Validation accuracy: 0.962471\n",
      "200 Batch accuracy: 0.966082 Validation accuracy: 0.962471\n",
      "201 Batch accuracy: 0.966117 Validation accuracy: 0.962471\n",
      "202 Batch accuracy: 0.966153 Validation accuracy: 0.962862\n",
      "203 Batch accuracy: 0.966224 Validation accuracy: 0.962862\n",
      "204 Batch accuracy: 0.966224 Validation accuracy: 0.963253\n",
      "205 Batch accuracy: 0.966189 Validation accuracy: 0.963253\n",
      "206 Batch accuracy: 0.966224 Validation accuracy: 0.963253\n",
      "207 Batch accuracy: 0.966224 Validation accuracy: 0.963253\n",
      "208 Batch accuracy: 0.96626 Validation accuracy: 0.963253\n",
      "209 Batch accuracy: 0.966224 Validation accuracy: 0.963253\n",
      "210 Batch accuracy: 0.96626 Validation accuracy: 0.963253\n",
      "211 Batch accuracy: 0.96626 Validation accuracy: 0.963643\n",
      "212 Batch accuracy: 0.96626 Validation accuracy: 0.964034\n",
      "213 Batch accuracy: 0.966296 Validation accuracy: 0.964034\n",
      "214 Batch accuracy: 0.966331 Validation accuracy: 0.964034\n",
      "215 Batch accuracy: 0.966403 Validation accuracy: 0.964425\n",
      "216 Batch accuracy: 0.966438 Validation accuracy: 0.964425\n",
      "217 Batch accuracy: 0.966367 Validation accuracy: 0.964425\n",
      "218 Batch accuracy: 0.966367 Validation accuracy: 0.964425\n",
      "219 Batch accuracy: 0.966403 Validation accuracy: 0.964425\n",
      "220 Batch accuracy: 0.966474 Validation accuracy: 0.964425\n",
      "221 Batch accuracy: 0.966617 Validation accuracy: 0.964425\n",
      "222 Batch accuracy: 0.966617 Validation accuracy: 0.964816\n",
      "223 Batch accuracy: 0.966617 Validation accuracy: 0.964816\n",
      "224 Batch accuracy: 0.966581 Validation accuracy: 0.964816\n",
      "225 Batch accuracy: 0.966652 Validation accuracy: 0.964816\n",
      "226 Batch accuracy: 0.966724 Validation accuracy: 0.964816\n",
      "227 Batch accuracy: 0.966724 Validation accuracy: 0.964816\n",
      "228 Batch accuracy: 0.966652 Validation accuracy: 0.964816\n",
      "229 Batch accuracy: 0.966652 Validation accuracy: 0.965207\n",
      "230 Batch accuracy: 0.966652 Validation accuracy: 0.965207\n",
      "231 Batch accuracy: 0.966617 Validation accuracy: 0.965207\n",
      "232 Batch accuracy: 0.966617 Validation accuracy: 0.965598\n",
      "233 Batch accuracy: 0.966652 Validation accuracy: 0.965207\n",
      "234 Batch accuracy: 0.966724 Validation accuracy: 0.965207\n",
      "235 Batch accuracy: 0.966795 Validation accuracy: 0.965207\n",
      "236 Batch accuracy: 0.966973 Validation accuracy: 0.965207\n",
      "237 Batch accuracy: 0.967009 Validation accuracy: 0.965207\n",
      "238 Batch accuracy: 0.96708 Validation accuracy: 0.965207\n",
      "239 Batch accuracy: 0.96708 Validation accuracy: 0.965598\n",
      "240 Batch accuracy: 0.96708 Validation accuracy: 0.965598\n",
      "241 Batch accuracy: 0.967116 Validation accuracy: 0.965598\n",
      "242 Batch accuracy: 0.967187 Validation accuracy: 0.965989\n",
      "243 Batch accuracy: 0.967223 Validation accuracy: 0.965989\n",
      "244 Batch accuracy: 0.967152 Validation accuracy: 0.965989\n",
      "245 Batch accuracy: 0.967152 Validation accuracy: 0.965989\n",
      "246 Batch accuracy: 0.967152 Validation accuracy: 0.965989\n",
      "247 Batch accuracy: 0.967152 Validation accuracy: 0.965989\n",
      "248 Batch accuracy: 0.967187 Validation accuracy: 0.965989\n",
      "249 Batch accuracy: 0.967187 Validation accuracy: 0.965989\n"
     ]
    }
   ],
   "source": [
    "extra_update_ops = tf.get_collection(tf.GraphKeys.UPDATE_OPS)\n",
    "init = tf.global_variables_initializer()\n",
    "saver = tf.train.Saver()\n",
    "\n",
    "with tf.Session(config=tf.ConfigProto(allow_soft_placement=True)) as sess:\n",
    "    init.run()\n",
    "    for epoch in range(n_epochs):\n",
    "        sess.run([training_op, extra_update_ops], feed_dict={training:True, X: X_train_04, y: y_train_04})\n",
    "        acc_batch = accuracy.eval(feed_dict={X: X_train_04, y: y_train_04})\n",
    "        acc_valid = accuracy.eval(feed_dict={X: X_valid_04, y: y_valid_04})\n",
    "        #if epoch % 5 == 0:\n",
    "        print(epoch, \"Batch accuracy:\", acc_batch, \"Validation accuracy:\", acc_valid)\n",
    "        acc_t_d.append(acc_batch)\n",
    "        acc_v_d.append(acc_valid)\n",
    "        loss_a_d.append(loss.eval(feed_dict={X: X_train_04, y: y_train_04}))\n",
    "    saver.save(sess, \"save/RNP04/mymodel04-bn-dropout\")"
   ]
  },
  {
   "cell_type": "code",
   "execution_count": 127,
   "metadata": {},
   "outputs": [
    {
     "name": "stdout",
     "output_type": "stream",
     "text": [
      "INFO:tensorflow:Restoring parameters from /Users/yannis/Developpement/DeepLearning/save/RNP04/mymodel04-bn-dropout\n",
      "0.96692\n"
     ]
    }
   ],
   "source": [
    "with tf.Session() as sess:\n",
    "    saver.restore(sess, \"save/RNP04/mymodel04-bn-dropout\")\n",
    "    accuracy_val = accuracy.eval(feed_dict={X: X_test_04, y: y_test_04})\n",
    "    print(accuracy_val)"
   ]
  },
  {
   "cell_type": "markdown",
   "metadata": {},
   "source": [
    "Dropout n'ameliore pas le model. Donc vaut mieux economiser du temps et train le modele sans dropout"
   ]
  },
  {
   "cell_type": "markdown",
   "metadata": {},
   "source": [
    "# Transfert d'apprentissage"
   ]
  },
  {
   "cell_type": "markdown",
   "metadata": {},
   "source": [
    "Charger le graph :"
   ]
  },
  {
   "cell_type": "code",
   "execution_count": 342,
   "metadata": {
    "collapsed": true
   },
   "outputs": [],
   "source": [
    "tf.reset_default_graph()\n",
    "saver_59 = tf.train.import_meta_graph(\"save/RNP04/mymodel04.meta\")"
   ]
  },
  {
   "cell_type": "markdown",
   "metadata": {},
   "source": [
    "recuperer référence operations / tenseurs : "
   ]
  },
  {
   "cell_type": "code",
   "execution_count": 343,
   "metadata": {
    "collapsed": true
   },
   "outputs": [],
   "source": [
    "graph = tf.get_default_graph()"
   ]
  },
  {
   "cell_type": "code",
   "execution_count": 344,
   "metadata": {
    "collapsed": true
   },
   "outputs": [],
   "source": [
    "X = graph.get_tensor_by_name(\"X:0\")\n",
    "y = graph.get_tensor_by_name(\"y:0\")\n",
    "\n",
    "loss = graph.get_tensor_by_name(\"loss:0\")\n",
    "Y_proba = graph.get_tensor_by_name(\"Y_proba:0\")\n",
    "logits = Y_proba.op.inputs[0]\n",
    "\n",
    "accuracy = graph.get_tensor_by_name(\"eval/accuracy:0\")"
   ]
  },
  {
   "cell_type": "code",
   "execution_count": null,
   "metadata": {
    "collapsed": true
   },
   "outputs": [],
   "source": []
  },
  {
   "cell_type": "markdown",
   "metadata": {},
   "source": [
    "On fige toutes les couches sauf la couches logits"
   ]
  },
  {
   "cell_type": "code",
   "execution_count": 345,
   "metadata": {
    "collapsed": true
   },
   "outputs": [],
   "source": [
    "train_vars = tf.get_collection(tf.GraphKeys.TRAINABLE_VARIABLES, scope=\"logits\")\n",
    "optimizer = tf.train.AdamOptimizer(lr, name=\"adam\")\n",
    "training_op = optimizer.minimize(loss, var_list=train_vars, name=\"adam\")"
   ]
  },
  {
   "cell_type": "code",
   "execution_count": 346,
   "metadata": {
    "collapsed": true
   },
   "outputs": [],
   "source": [
    "with tf.name_scope(\"eval\"):\n",
    "    correct = tf.nn.in_top_k(logits, y, 1)\n",
    "    accuracy = tf.reduce_mean(tf.cast(correct, tf.float32), name=\"accuracy\")"
   ]
  },
  {
   "cell_type": "code",
   "execution_count": 347,
   "metadata": {
    "collapsed": true
   },
   "outputs": [],
   "source": [
    "init = tf.global_variables_initializer()\n",
    "saver_new_59 = tf.train.Saver()"
   ]
  },
  {
   "cell_type": "markdown",
   "metadata": {},
   "source": [
    "on recupere juste les chiffres de 5 a 9 "
   ]
  },
  {
   "cell_type": "code",
   "execution_count": 295,
   "metadata": {
    "collapsed": true
   },
   "outputs": [],
   "source": [
    "index_X_train_5_9 = [ idx for idx, val in enumerate(y_train) if val >= 5 ]\n",
    "index_X_valid_5_9 = [ idx for idx, val in enumerate(y_valid) if val >= 5 ]\n",
    "index_X_test_5_9 = [ idx for idx, val in enumerate(y_test) if val >= 5 ]\n",
    "X_train_59 = X_train[index_X_train_5_9]\n",
    "y_train_59 = y_train[index_X_train_5_9]\n",
    "X_valid_59 = X_valid[index_X_valid_5_9]\n",
    "y_valid_59 = y_valid[index_X_valid_5_9]\n",
    "X_test_59 = X_test[index_X_test_5_9]\n",
    "y_test_59 = y_test[index_X_test_5_9]"
   ]
  },
  {
   "cell_type": "markdown",
   "metadata": {},
   "source": [
    "Et on va prendre que 100 images par class afin de voir combien d'accuracy on peut atteindre avec un petit dataset"
   ]
  },
  {
   "cell_type": "code",
   "execution_count": 296,
   "metadata": {
    "collapsed": true
   },
   "outputs": [],
   "source": [
    "def sample_100_by_class(X, y, m=100):\n",
    "    ck = {5:[], 6:[], 7:[], 8:[], 9:[]}\n",
    "    for i, v in enumerate(y):\n",
    "        if len(ck[v]) < m :\n",
    "            ck[v].append(i)\n",
    "    res = np.concatenate((ck[5],ck[6],ck[7],ck[8],ck[9]))\n",
    "    return shuffle(res)"
   ]
  },
  {
   "cell_type": "code",
   "execution_count": 348,
   "metadata": {
    "collapsed": true
   },
   "outputs": [],
   "source": [
    "index_X_train_5_9_100 = sample_100_by_class(X_train_59, y_train_59)\n",
    "index_X_valid_5_9_30 = sample_100_by_class(X_valid_59, y_valid_59, 30)\n",
    "index_X_test_5_9_30 = sample_100_by_class(X_test_59, y_test_59, 30)\n",
    "X_train_59_100 = X_train_59[index_X_train_5_9_100]\n",
    "y_train_59_100 = y_train_59[index_X_train_5_9_100] - 5\n",
    "X_valid_59_100 = X_valid_59[index_X_valid_5_9_30]\n",
    "y_valid_59_100 = y_valid_59[index_X_valid_5_9_30] - 5\n",
    "X_test_59_100 = X_test_59[index_X_test_5_9_30]\n",
    "y_test_59_100 = y_test_59[index_X_test_5_9_30] - 5"
   ]
  },
  {
   "cell_type": "markdown",
   "metadata": {},
   "source": [
    "training"
   ]
  },
  {
   "cell_type": "code",
   "execution_count": 335,
   "metadata": {},
   "outputs": [
    {
     "name": "stdout",
     "output_type": "stream",
     "text": [
      "INFO:tensorflow:Restoring parameters from /Users/yannis/Developpement/DeepLearning/save/RNP04/mymodel04\n",
      "0 Batch accuracy: 0.17 Validation accuracy: 0.186667\n",
      "10 Batch accuracy: 0.272 Validation accuracy: 0.24\n",
      "20 Batch accuracy: 0.39 Validation accuracy: 0.366667\n",
      "30 Batch accuracy: 0.49 Validation accuracy: 0.546667\n",
      "40 Batch accuracy: 0.562 Validation accuracy: 0.64\n",
      "50 Batch accuracy: 0.638 Validation accuracy: 0.653333\n",
      "60 Batch accuracy: 0.66 Validation accuracy: 0.673333\n",
      "70 Batch accuracy: 0.698 Validation accuracy: 0.68\n",
      "80 Batch accuracy: 0.734 Validation accuracy: 0.68\n",
      "90 Batch accuracy: 0.748 Validation accuracy: 0.693333\n",
      "100 Batch accuracy: 0.762 Validation accuracy: 0.733333\n",
      "110 Batch accuracy: 0.774 Validation accuracy: 0.726667\n",
      "120 Batch accuracy: 0.786 Validation accuracy: 0.733333\n",
      "130 Batch accuracy: 0.79 Validation accuracy: 0.74\n",
      "140 Batch accuracy: 0.796 Validation accuracy: 0.76\n",
      "150 Batch accuracy: 0.808 Validation accuracy: 0.766667\n",
      "160 Batch accuracy: 0.816 Validation accuracy: 0.78\n",
      "170 Batch accuracy: 0.822 Validation accuracy: 0.786667\n",
      "180 Batch accuracy: 0.828 Validation accuracy: 0.8\n",
      "190 Batch accuracy: 0.832 Validation accuracy: 0.8\n",
      "200 Batch accuracy: 0.832 Validation accuracy: 0.8\n",
      "210 Batch accuracy: 0.84 Validation accuracy: 0.8\n",
      "220 Batch accuracy: 0.842 Validation accuracy: 0.8\n",
      "230 Batch accuracy: 0.852 Validation accuracy: 0.8\n",
      "240 Batch accuracy: 0.858 Validation accuracy: 0.8\n",
      "250 Batch accuracy: 0.862 Validation accuracy: 0.8\n",
      "260 Batch accuracy: 0.872 Validation accuracy: 0.806667\n",
      "270 Batch accuracy: 0.874 Validation accuracy: 0.813333\n",
      "280 Batch accuracy: 0.878 Validation accuracy: 0.813333\n",
      "290 Batch accuracy: 0.884 Validation accuracy: 0.813333\n",
      "Total training time: 2.2s\n"
     ]
    }
   ],
   "source": [
    "n_epochs = 300\n",
    "acc_t_1 = []\n",
    "acc_v_1 = []\n",
    "loss_a_1 = []\n",
    "with tf.Session(config=tf.ConfigProto(allow_soft_placement=True)) as sess:\n",
    "    init.run()\n",
    "    \n",
    "    saver_59.restore(sess, \"save/RNP04/mymodel04\")\n",
    "    for var in train_vars:\n",
    "        var.initializer.run()\n",
    "    t0 = time.time()\n",
    "    for epoch in range(n_epochs):\n",
    "        sess.run(training_op, feed_dict={X: X_train_59_100, y: y_train_59_100})\n",
    "        acc_batch = accuracy.eval(feed_dict={X: X_train_59_100, y: y_train_59_100})\n",
    "        acc_valid = accuracy.eval(feed_dict={X: X_valid_59_100, y: y_valid_59_100})\n",
    "        if epoch % 10 == 0:\n",
    "            print(epoch, \"Batch accuracy:\", acc_batch, \"Validation accuracy:\", acc_valid)\n",
    "        #acc_t_1.append(acc_batch)\n",
    "        #acc_v_1.append(acc_valid)\n",
    "        #loss_a_1.append(loss.eval(feed_dict={X: X_train_59_100, y: y_train_59_100}))\n",
    "    saver.save(sess, \"save/RNP59/mymodel\")\n",
    "    \n",
    "    t1 = time.time()\n",
    "    print(\"Total training time: {:.1f}s\".format(t1 - t0))"
   ]
  },
  {
   "cell_type": "code",
   "execution_count": 308,
   "metadata": {},
   "outputs": [
    {
     "name": "stdout",
     "output_type": "stream",
     "text": [
      "INFO:tensorflow:Restoring parameters from /Users/yannis/Developpement/DeepLearning/save/RNP59/mymodel\n",
      "0.84\n"
     ]
    }
   ],
   "source": [
    "with tf.Session() as sess:\n",
    "    saver.restore(sess, \"save/RNP59/mymodel\")\n",
    "    accuracy_val = accuracy.eval(feed_dict={X: X_test_59_100, y: y_test_59_100})\n",
    "    print(accuracy_val)"
   ]
  },
  {
   "cell_type": "markdown",
   "metadata": {},
   "source": [
    "84% max d'accuracity sur le test dataset, 80% sur le validation data set et 90% sur le training dataset.\n",
    "le modele a l'air de surajusté et les donner et le petit dataset empeche d'avoir une bonne accuracy"
   ]
  },
  {
   "cell_type": "markdown",
   "metadata": {},
   "source": [
    "= > 2,9 sec pour epoch"
   ]
  },
  {
   "cell_type": "markdown",
   "metadata": {},
   "source": [
    "On test en mettant en cache les couches figés maintenant "
   ]
  },
  {
   "cell_type": "code",
   "execution_count": 349,
   "metadata": {
    "collapsed": true
   },
   "outputs": [],
   "source": [
    "hidden5_out = tf.get_default_graph().get_tensor_by_name(\"hidden5/Elu:0\")"
   ]
  },
  {
   "cell_type": "code",
   "execution_count": 351,
   "metadata": {},
   "outputs": [
    {
     "name": "stdout",
     "output_type": "stream",
     "text": [
      "INFO:tensorflow:Restoring parameters from /Users/yannis/Developpement/DeepLearning/save/RNP04/mymodel04\n",
      "0 Batch accuracy: 0.23 Validation accuracy: 0.22\n",
      "10 Batch accuracy: 0.354 Validation accuracy: 0.266667\n",
      "20 Batch accuracy: 0.436 Validation accuracy: 0.373333\n",
      "30 Batch accuracy: 0.464 Validation accuracy: 0.406667\n",
      "40 Batch accuracy: 0.474 Validation accuracy: 0.413333\n",
      "50 Batch accuracy: 0.496 Validation accuracy: 0.433333\n",
      "60 Batch accuracy: 0.546 Validation accuracy: 0.486667\n",
      "70 Batch accuracy: 0.588 Validation accuracy: 0.56\n",
      "80 Batch accuracy: 0.65 Validation accuracy: 0.626667\n",
      "90 Batch accuracy: 0.694 Validation accuracy: 0.646667\n",
      "100 Batch accuracy: 0.744 Validation accuracy: 0.693333\n",
      "110 Batch accuracy: 0.772 Validation accuracy: 0.706667\n",
      "120 Batch accuracy: 0.782 Validation accuracy: 0.746667\n",
      "130 Batch accuracy: 0.804 Validation accuracy: 0.76\n",
      "140 Batch accuracy: 0.812 Validation accuracy: 0.76\n",
      "150 Batch accuracy: 0.82 Validation accuracy: 0.753333\n",
      "160 Batch accuracy: 0.824 Validation accuracy: 0.76\n",
      "170 Batch accuracy: 0.826 Validation accuracy: 0.753333\n",
      "180 Batch accuracy: 0.832 Validation accuracy: 0.76\n",
      "190 Batch accuracy: 0.838 Validation accuracy: 0.773333\n",
      "200 Batch accuracy: 0.842 Validation accuracy: 0.78\n",
      "210 Batch accuracy: 0.848 Validation accuracy: 0.78\n",
      "220 Batch accuracy: 0.854 Validation accuracy: 0.773333\n",
      "230 Batch accuracy: 0.854 Validation accuracy: 0.786667\n",
      "240 Batch accuracy: 0.86 Validation accuracy: 0.786667\n",
      "250 Batch accuracy: 0.866 Validation accuracy: 0.786667\n",
      "260 Batch accuracy: 0.866 Validation accuracy: 0.793333\n",
      "270 Batch accuracy: 0.866 Validation accuracy: 0.793333\n",
      "280 Batch accuracy: 0.868 Validation accuracy: 0.793333\n",
      "290 Batch accuracy: 0.876 Validation accuracy: 0.8\n",
      "Total training time: 1.5s\n"
     ]
    }
   ],
   "source": [
    "with tf.Session(config=tf.ConfigProto(allow_soft_placement=True)) as sess:\n",
    "    init.run()\n",
    "    \n",
    "    saver_59.restore(sess, \"save/RNP04/mymodel04\")\n",
    "    for var in train_vars:\n",
    "        var.initializer.run()\n",
    "        \n",
    "    t0 = time.time()\n",
    "    \n",
    "    hidden5_train = hidden5_out.eval(feed_dict={X: X_train_59_100, y: y_train_59_100})\n",
    "    \n",
    "    for epoch in range(n_epochs):\n",
    "        sess.run(training_op, feed_dict={hidden5_out: hidden5_train, y: y_train_59_100})\n",
    "        acc_batch = accuracy.eval(feed_dict={X: X_train_59_100, y: y_train_59_100})\n",
    "        acc_valid = accuracy.eval(feed_dict={X: X_valid_59_100, y: y_valid_59_100})\n",
    "        if epoch % 10 == 0:\n",
    "            print(epoch, \"Batch accuracy:\", acc_batch, \"Validation accuracy:\", acc_valid) \n",
    "    t1 = time.time()\n",
    "    print(\"Total training time: {:.1f}s\".format(t1 - t0))"
   ]
  },
  {
   "cell_type": "markdown",
   "metadata": {},
   "source": [
    "=> Avec les couches figés en cache, le temps de training descend à 1,5sec, soit deux plus rapide que sans cache."
   ]
  },
  {
   "cell_type": "code",
   "execution_count": null,
   "metadata": {
    "collapsed": true
   },
   "outputs": [],
   "source": []
  }
 ],
 "metadata": {
  "kernelspec": {
   "display_name": "Python 3",
   "language": "python",
   "name": "python3"
  },
  "language_info": {
   "codemirror_mode": {
    "name": "ipython",
    "version": 3
   },
   "file_extension": ".py",
   "mimetype": "text/x-python",
   "name": "python",
   "nbconvert_exporter": "python",
   "pygments_lexer": "ipython3",
   "version": "3.6.3"
  }
 },
 "nbformat": 4,
 "nbformat_minor": 2
}
